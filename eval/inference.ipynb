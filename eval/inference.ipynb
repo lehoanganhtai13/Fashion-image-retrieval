{
 "cells": [
  {
   "cell_type": "code",
   "execution_count": 1,
   "metadata": {},
   "outputs": [
    {
     "name": "stderr",
     "output_type": "stream",
     "text": [
      "[nltk_data] Downloading package punkt to /home/taile/nltk_data...\n",
      "[nltk_data]   Package punkt is already up-to-date!\n"
     ]
    }
   ],
   "source": [
    "import sys\n",
    "import os\n",
    "from dotenv import load_dotenv\n",
    "from datetime import timedelta\n",
    "\n",
    "import random\n",
    "from typing import List\n",
    "import time\n",
    "import pandas as pd\n",
    "from IPython.display import display, Image, HTML\n",
    "\n",
    "# Add the services/app directory to the path\n",
    "sys.path.append(os.path.abspath(os.path.join(os.getcwd(), '../services/etl')))\n",
    "\n",
    "from utils import EncoderClient, Minio, VectorDatabase, ETL, LLMEncoderClient, ReRankerClient, BM25Client"
   ]
  },
  {
   "cell_type": "code",
   "execution_count": 2,
   "metadata": {},
   "outputs": [
    {
     "name": "stdout",
     "output_type": "stream",
     "text": [
      "Initializing the CLIP encoder...\n",
      "Initializing the Milvus client...\n",
      "Collection text_to_image_retrieval is loaded successfully!\n",
      "Collection name_retrieval is loaded successfully!\n",
      "Collection category_retrieval is loaded successfully!\n",
      "Initializing the Minio client...\n",
      "Initializing the LLM encoder...\n",
      "Initializing the ReRanker client...\n",
      "Initializing the BM25 client...\n"
     ]
    }
   ],
   "source": [
    "load_dotenv(\"../services/etl/.env\")\n",
    "os.environ[\"NO_PROXY\"] = os.getenv(\"NO_PROXY_HOST\", \"None\")\n",
    "\n",
    "# Initialize the CLIP encoder\n",
    "print(\"Initializing the CLIP encoder...\")\n",
    "encoder = EncoderClient(\n",
    "    host=os.getenv(\"MODEL_SERVING_HOST\"),\n",
    "    port=os.getenv(\"MODEL_SERVING_PORT\"),\n",
    ")\n",
    "\n",
    "# Initialize the Milvus client and create a collection\n",
    "print(\"Initializing the Milvus client...\")\n",
    "milvus_client = VectorDatabase(\n",
    "    host=os.getenv(\"MILVUS_HOST\"),\n",
    "    port=os.getenv(\"MILVUS_PORT\")\n",
    ")\n",
    "\n",
    "milvus_collections = [os.getenv(\"MILVUS_COLLECTION\"), os.getenv(\"MILVUS_NAME_COLLECTION\"), os.getenv(\"MILVUS_CATEGORY_COLLECTION\")]\n",
    "for collection_name in milvus_collections:\n",
    "    load_state = milvus_client.load_collection(collection_name)\n",
    "    if not load_state:\n",
    "        raise Exception(f\"Failed to load the Milvus collection {collection_name} into memory\")\n",
    "milvus_index_type = os.getenv(\"MILVUS_INDEX_TYPE\")\n",
    "milvus_metric_type = os.getenv(\"MILVUS_METRIC_TYPE\")\n",
    "\n",
    "# Initialize the Minio client and create a bucket\n",
    "print(\"Initializing the Minio client...\")\n",
    "bucket_name = os.getenv(\"MINIO_BUCKET_NAME\")\n",
    "minio_client = Minio(\n",
    "    endpoint=os.getenv(\"MINIO_ENDPOINT\"),\n",
    "    access_key=os.getenv(\"MINIO_ACCESS_KEY_ID\"),\n",
    "    secret_key=os.getenv(\"MINIO_SECRET_ACCESS_KEY\"),\n",
    "    secure=False\n",
    ")\n",
    "if not minio_client.bucket_exists(bucket_name):\n",
    "    raise Exception(f\"Bucket {bucket_name} does not exist!\")\n",
    "\n",
    "# Initialize the LLM encoder\n",
    "print(\"Initializing the LLM encoder...\")\n",
    "LLMEncoder = LLMEncoderClient(\n",
    "    host=os.getenv(\"MODEL_SERVING_HOST\"),\n",
    "    port=os.getenv(\"EMBEDDER_MODEL_SERVING_PORT\"),\n",
    ")\n",
    "\n",
    "# Initialize the ReRanker client\n",
    "print(\"Initializing the ReRanker client...\")\n",
    "re_ranker = ReRankerClient(\n",
    "    host=os.getenv(\"MODEL_SERVING_HOST\"),\n",
    "    port=os.getenv(\"RE_RANKER_MODEL_SERVING_PORT\"),\n",
    ")\n",
    "\n",
    "# Initialize the BM25 client\n",
    "print(\"Initializing the BM25 client...\")\n",
    "bm25_client = BM25Client(\n",
    "    storage=minio_client,\n",
    "    bucket_name=bucket_name,\n",
    ")\n",
    "\n",
    "df_processor = ETL(\n",
    "    folder_name=\"\",\n",
    "    encoder=None,\n",
    "    BM25_encoder=None,\n",
    "    storage_client=None,\n",
    "    db_client=None,\n",
    "    collection_name=\"\",\n",
    "    bucket_name=\"\",\n",
    "    collection_type=\"\"\n",
    ")"
   ]
  },
  {
   "cell_type": "code",
   "execution_count": 43,
   "metadata": {},
   "outputs": [],
   "source": [
    "def category_detection(query: str):\n",
    "    # Encode the query using LLM-based embedder\n",
    "    query_embedding = LLMEncoder.encode_text([query])\n",
    "\n",
    "    # Search for the top 5 categories\n",
    "    results = milvus_client.search_vectors(\n",
    "        collection_type=\"category\",\n",
    "        collection_name=milvus_collections[2],\n",
    "        vectors=query_embedding,\n",
    "        top_k=5,\n",
    "        index_type=milvus_index_type,\n",
    "        metric_type=milvus_metric_type\n",
    "    )\n",
    "\n",
    "    top_5_categories_list = [\n",
    "        [res[\"entity\"][\"category_name\"] for res in result]\n",
    "        for result in results\n",
    "    ]\n",
    "\n",
    "    return top_5_categories_list\n",
    "\n",
    "def image_retrieval(query: str, top_categories: List[str], top_p: int):\n",
    "    # Encode the query using CLIP model\n",
    "    dense_query_embedding = encoder.encode_text([query])\n",
    "\n",
    "    # Search for the top p documents\n",
    "    filtering_expression = \" or \".join([f'product_category == \"{category}\"' for category in top_categories])\n",
    "    results = milvus_client.search_vectors(\n",
    "        collection_type=\"image\",\n",
    "        collection_name=milvus_collections[0],\n",
    "        vectors=dense_query_embedding,\n",
    "        top_k=top_p,\n",
    "        index_type=milvus_index_type,\n",
    "        metric_type=milvus_metric_type,\n",
    "        filtering_expr=filtering_expression\n",
    "    )\n",
    "    image_id_list = [\n",
    "        [res[\"entity\"][\"id\"] for res in result]\n",
    "        for result in results\n",
    "    ]\n",
    "    product_name_list = [\n",
    "        [res[\"entity\"][\"product_name\"] for res in result]\n",
    "        for result in results\n",
    "    ]\n",
    "\n",
    "    return image_id_list, product_name_list\n",
    "\n",
    "def image_reranking(query: str, image_id_list: List[str], top_k: int):\n",
    "    # Get the images from the Minio storage\n",
    "    retrieved_vectors_limit = 16300\n",
    "    product_names_list = []\n",
    "    for i in range(0, len(image_id_list), retrieved_vectors_limit):\n",
    "        batch_ids = image_id_list[i:i + retrieved_vectors_limit]\n",
    "        entities = milvus_client.get_vectors(milvus_collections[0], batch_ids)\n",
    "        names = [entity[\"product_name\"] for entity in entities]\n",
    "        product_names_list.extend(names)\n",
    "\n",
    "    # Rerank the images based on the query and the product names\n",
    "    sorted_indices = re_ranker.rerank(\n",
    "        query=query,\n",
    "        documents=product_names_list,\n",
    "        top_k=top_k\n",
    "    )\n",
    "\n",
    "    top_k_image_names = [product_names_list[i] for i in sorted_indices]\n",
    "    top_k_image_ids = [image_id_list[i] for i in sorted_indices]\n",
    "\n",
    "    return top_k_image_ids, top_k_image_names\n"
   ]
  },
  {
   "cell_type": "code",
   "execution_count": 205,
   "metadata": {},
   "outputs": [
    {
     "name": "stdout",
     "output_type": "stream",
     "text": [
      "Query: Speed ​​Racer Motorcycles Women's Dark Gray T-Shirt.\n",
      "Labels: Speed ​​Racer Motorcycles - Pure Women's T-Shirt - XS Dark gray highlights\n"
     ]
    }
   ],
   "source": [
    "df = pd.read_csv('./dataset/GLAMI-1M-test-en-queries.csv')\n",
    "df = df.iloc[:10000]\n",
    "\n",
    "random_index = random.randint(0, len(df))\n",
    "query = df['query'][random_index]\n",
    "labels = df['name_en'][random_index]\n",
    "\n",
    "print(f\"Query: {query}\")\n",
    "print(f\"Labels: {labels}\")"
   ]
  },
  {
   "cell_type": "code",
   "execution_count": 206,
   "metadata": {},
   "outputs": [
    {
     "name": "stdout",
     "output_type": "stream",
     "text": [
      "Category detection time: 0.04 seconds\n",
      "\n",
      "The top 5 categories for the query 'Speed ​​Racer Motorcycles Women's Dark Gray T-Shirt' are:\n",
      "- women's tops tank tops or t-shirts\n",
      "- men's t-shirts or tank tops\n",
      "- girl's t-shirts or shirts\n",
      "- women's undershirts\n",
      "- women's sweatshirts\n"
     ]
    }
   ],
   "source": [
    "start_time = time.time()\n",
    "query = query.replace(\".\", \"\")\n",
    "top_5_categories = category_detection(query)[0]\n",
    "category_time = time.time() - start_time\n",
    "print(f\"Category detection time: {category_time:.2f} seconds\\n\")\n",
    "\n",
    "print(f\"The top 5 categories for the query '{query}' are:\")\n",
    "none = [print(f\"- {category}\") for category in top_5_categories]"
   ]
  },
  {
   "cell_type": "code",
   "execution_count": 207,
   "metadata": {},
   "outputs": [
    {
     "name": "stdout",
     "output_type": "stream",
     "text": [
      "\n",
      "Image retrieval time: 0.03 seconds\n",
      "\n",
      "The top 10 images in all of the retrieved images for the query 'Speed ​​Racer Motorcycles Women's Dark Gray T-Shirt' are:\n",
      "- Speed ​​Racer 2 - Viper FIT Men's T-Shirt - S Dark gray highlights\n",
      "- Full Speed ​​- Pure women's t-shirt - XS Dark gray highlights\n",
      "- Speed ​​Racer Motorcycles - Pure Women's T-Shirt - XS Dark gray highlights\n",
      "- Two running horses - Pure women's t-shirt - XS Dark gray highlights\n",
      "- Skate above the channel - Pure women's shirt - XS Black\n",
      "- The Dirty Wheel - Pure women's shirt - XS Black\n",
      "- Moto Racer Classic - Viper FIT Men's T-Shirt - S Dark gray highlights\n",
      "- Ride The Waves - Pure women's t-shirt - XS Dark gray highlights\n",
      "- Iron Rider - Viper FIT men's t-shirt - S Dark gray highlights\n",
      "- Born in Czechoslovakia - Pure women's t-shirt - XS Dark gray highlights\n"
     ]
    }
   ],
   "source": [
    "top_p = 100\n",
    "top_images_shown = 10\n",
    "start_time = time.time()\n",
    "top_p_image_ids, top_p_image_name = image_retrieval(query, top_5_categories, top_p)\n",
    "image_retrieval_time = time.time() - start_time\n",
    "print(f\"\\nImage retrieval time: {image_retrieval_time:.2f} seconds\\n\")\n",
    "\n",
    "print(f\"The top {top_images_shown} images in all of the retrieved images for the query '{query}' are:\")\n",
    "none = [print(f\"- {product_name}\") for product_name in top_p_image_name[0][:top_images_shown]]"
   ]
  },
  {
   "cell_type": "code",
   "execution_count": 208,
   "metadata": {},
   "outputs": [
    {
     "name": "stdout",
     "output_type": "stream",
     "text": [
      "\n",
      "Image reranking time: 0.53 seconds\n",
      "\n",
      "The top 3 reranked images for the query 'Speed ​​Racer Motorcycles Women's Dark Gray T-Shirt' are:\n",
      "\"Speed ​​Racer Motorcycles - Pure Women's T-Shirt - XS Dark gray highlights\"\n",
      "\"Full Speed ​​- Pure women's t-shirt - XS Dark gray highlights\"\n",
      "\"Off Road Racing - Pure women's t-shirt - XS Dark gray highlights\"\n"
     ]
    }
   ],
   "source": [
    "top_k = 3\n",
    "start_time = time.time()\n",
    "reranked_image_ids, reranked_image_names = image_reranking(query, top_p_image_ids[0], top_k)\n",
    "reranking_time = time.time() - start_time\n",
    "print(f\"\\nImage reranking time: {reranking_time:.2f} seconds\\n\")\n",
    "\n",
    "print(f\"The top {top_k} reranked images for the query '{query}' are:\")\n",
    "none = [print(f\"\\\"{image_name}\\\"\") for image_name in reranked_image_names]"
   ]
  },
  {
   "cell_type": "code",
   "execution_count": null,
   "metadata": {},
   "outputs": [],
   "source": [
    "# Generate HTML for displaying images in rows\n",
    "html_content = \"<div style='display: flex; flex-wrap: wrap;'>\"\n",
    "\n",
    "for i, image_id in enumerate(reranked_image_ids):\n",
    "    image_path = f\"images/{image_id}.jpg\"\n",
    "    image_url = minio_client.presigned_get_object(\n",
    "        bucket_name=bucket_name,\n",
    "        object_name=image_path,\n",
    "        expires=timedelta(hours=1)\n",
    "    )\n",
    "    \n",
    "    # Add image to HTML content\n",
    "    html_content += f\"<div style='flex: 1 0 30%; margin: 5px;'><img src='{image_url}' style='width: 100%; height: auto;'></div>\"\n",
    "    \n",
    "    # Add a new row after every 3 images\n",
    "    if (i + 1) % 3 == 0:\n",
    "        html_content += \"<div style='flex-basis: 100%; height: 0;'></div>\"\n",
    "\n",
    "html_content += \"</div>\"\n",
    "\n",
    "# Display the HTML content\n",
    "display(HTML(html_content))"
   ]
  },
  {
   "cell_type": "code",
   "execution_count": 210,
   "metadata": {},
   "outputs": [
    {
     "name": "stdout",
     "output_type": "stream",
     "text": [
      "\n",
      "Total time taken: 0.60 seconds\n"
     ]
    }
   ],
   "source": [
    "print(f\"\\nTotal time taken: {category_time + image_retrieval_time + reranking_time:.2f} seconds\")"
   ]
  },
  {
   "cell_type": "code",
   "execution_count": 1,
   "metadata": {},
   "outputs": [
    {
     "name": "stdout",
     "output_type": "stream",
     "text": [
      "Wed Oct 30 09:05:31 2024       \n",
      "+-----------------------------------------------------------------------------+\n",
      "| NVIDIA-SMI 510.47.03    Driver Version: 510.47.03    CUDA Version: 11.6     |\n",
      "|-------------------------------+----------------------+----------------------+\n",
      "| GPU  Name        Persistence-M| Bus-Id        Disp.A | Volatile Uncorr. ECC |\n",
      "| Fan  Temp  Perf  Pwr:Usage/Cap|         Memory-Usage | GPU-Util  Compute M. |\n",
      "|                               |                      |               MIG M. |\n",
      "|===============================+======================+======================|\n",
      "|   0  NVIDIA RTX A6000    On   | 00000000:01:00.0 Off |                  Off |\n",
      "| 30%   53C    P8    32W / 300W |  30554MiB / 49140MiB |      0%      Default |\n",
      "|                               |                      |                  N/A |\n",
      "+-------------------------------+----------------------+----------------------+\n",
      "|   1  NVIDIA RTX A6000    On   | 00000000:21:00.0 Off |                  Off |\n",
      "| 30%   45C    P8    25W / 300W |      8MiB / 49140MiB |      0%      Default |\n",
      "|                               |                      |                  N/A |\n",
      "+-------------------------------+----------------------+----------------------+\n",
      "                                                                               \n",
      "+-----------------------------------------------------------------------------+\n",
      "| Processes:                                                                  |\n",
      "|  GPU   GI   CI        PID   Type   Process name                  GPU Memory |\n",
      "|        ID   ID                                                   Usage      |\n",
      "|=============================================================================|\n",
      "|    0   N/A  N/A      3307      G   /usr/lib/xorg/Xorg                 20MiB |\n",
      "|    0   N/A  N/A   3605381      C   ...3/envs/chatbot/bin/python     1625MiB |\n",
      "|    0   N/A  N/A   3605382      C   ...3/envs/chatbot/bin/python     1625MiB |\n",
      "|    0   N/A  N/A   3605383      C   ...3/envs/chatbot/bin/python     1625MiB |\n",
      "|    0   N/A  N/A   3605387      C   ...3/envs/chatbot/bin/python     1625MiB |\n",
      "|    0   N/A  N/A   3705421      C   ...3/envs/chatbot/bin/python     6007MiB |\n",
      "|    0   N/A  N/A   3705422      C   ...3/envs/chatbot/bin/python     6007MiB |\n",
      "|    0   N/A  N/A   3705428      C   ...3/envs/chatbot/bin/python     6007MiB |\n",
      "|    0   N/A  N/A   3705429      C   ...3/envs/chatbot/bin/python     6007MiB |\n",
      "|    1   N/A  N/A      3307      G   /usr/lib/xorg/Xorg                  4MiB |\n",
      "+-----------------------------------------------------------------------------+\n"
     ]
    }
   ],
   "source": [
    "!nvidia-smi"
   ]
  }
 ],
 "metadata": {
  "kernelspec": {
   "display_name": "brandon_proj",
   "language": "python",
   "name": "python3"
  },
  "language_info": {
   "codemirror_mode": {
    "name": "ipython",
    "version": 3
   },
   "file_extension": ".py",
   "mimetype": "text/x-python",
   "name": "python",
   "nbconvert_exporter": "python",
   "pygments_lexer": "ipython3",
   "version": "3.9.2"
  }
 },
 "nbformat": 4,
 "nbformat_minor": 2
}
